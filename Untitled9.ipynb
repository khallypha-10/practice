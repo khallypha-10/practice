{
 "cells": [
  {
   "cell_type": "code",
   "execution_count": 18,
   "id": "72f33fd4",
   "metadata": {},
   "outputs": [],
   "source": [
    "def new_person(name, age, role='student', fees='1000'):\n",
    "    person = {\n",
    "        'person_name': name,\n",
    "        'person_age' : age,\n",
    "        'person_role' : role,\n",
    "        'person_fees' : fees,\n",
    "    }\n",
    "    return person\n",
    "   \n",
    "\n",
    "        \n",
    "    "
   ]
  },
  {
   "cell_type": "code",
   "execution_count": 25,
   "id": "d00364e2",
   "metadata": {},
   "outputs": [],
   "source": [
    "sulaiman = new_person(\"sulaiman\", 24,)"
   ]
  },
  {
   "cell_type": "code",
   "execution_count": 42,
   "id": "31223668",
   "metadata": {},
   "outputs": [],
   "source": [
    "f = open(\"my__file.txt\", \"w\")\n",
    "f.write(f\"{sulaiman}\")\n",
    "f.close()"
   ]
  },
  {
   "cell_type": "code",
   "execution_count": 48,
   "id": "f378c035",
   "metadata": {},
   "outputs": [
    {
     "name": "stdout",
     "output_type": "stream",
     "text": [
      "{'person_name': 'sulaiman', 'person_age': 24, 'person_role': 'student', 'person_fees': '1000'}\n",
      "\n"
     ]
    }
   ],
   "source": [
    "f = open(\"my__file.txt\", \"r\")\n",
    "print(f.read())\n",
    "print()\n",
    "f.close()"
   ]
  },
  {
   "cell_type": "code",
   "execution_count": 54,
   "id": "244af741",
   "metadata": {},
   "outputs": [],
   "source": [
    "f = open(\"my__file.txt\", \"a\")\n",
    "f.write(\"\\n \\n you have done well\")\n",
    "f.close()"
   ]
  },
  {
   "cell_type": "code",
   "execution_count": 55,
   "id": "5b23e7ba",
   "metadata": {},
   "outputs": [
    {
     "name": "stdout",
     "output_type": "stream",
     "text": [
      "{'person_name': 'sulaiman', 'person_age': 24, 'person_role': 'student', 'person_fees': '1000'}you have done wellyou have done well\n",
      " \n",
      " you have done well\n",
      "\n"
     ]
    }
   ],
   "source": [
    "f = open(\"my__file.txt\", \"r\")\n",
    "print(f.read())\n",
    "print()\n",
    "f.close()"
   ]
  },
  {
   "cell_type": "code",
   "execution_count": null,
   "id": "e1507087",
   "metadata": {},
   "outputs": [],
   "source": []
  }
 ],
 "metadata": {
  "kernelspec": {
   "display_name": "Python 3 (ipykernel)",
   "language": "python",
   "name": "python3"
  },
  "language_info": {
   "codemirror_mode": {
    "name": "ipython",
    "version": 3
   },
   "file_extension": ".py",
   "mimetype": "text/x-python",
   "name": "python",
   "nbconvert_exporter": "python",
   "pygments_lexer": "ipython3",
   "version": "3.9.12"
  }
 },
 "nbformat": 4,
 "nbformat_minor": 5
}
